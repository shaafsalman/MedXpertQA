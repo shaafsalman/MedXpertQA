{
 "cells": [
  {
   "cell_type": "markdown",
   "metadata": {},
   "source": [
    "#### MedXpertQA"
   ]
  },
  {
   "cell_type": "code",
   "execution_count": 2,
   "metadata": {},
   "outputs": [],
   "source": [
    "import os\n",
    "import json\n",
    "\n",
    "from datasets import load_dataset\n",
    "\n",
    "spilt_list = ['MM', 'Text']\n",
    "\n",
    "for split in spilt_list:\n",
    "    ds = load_dataset(\"TsinghuaC3I/MedXpertQA\", split)\n",
    "\n",
    "    test = ds[\"test\"]\n",
    "\n",
    "    final_data = []\n",
    "    for index, item in enumerate(test):\n",
    "        options = []\n",
    "        for option in item[\"options\"]:\n",
    "            letter = option\n",
    "            content = item[\"options\"][option]\n",
    "            option_item = {\"letter\": letter, \"content\": content}\n",
    "            options.append(option_item)\n",
    "        item[\"options\"] = options\n",
    "        item[\"label\"] = [item[\"label\"]]\n",
    "\n",
    "        if split == \"MM\":\n",
    "            images = []\n",
    "            for image in item[\"images\"]:\n",
    "                image_path = image\n",
    "                images.append({\"image_path\": image_path})\n",
    "            item[\"images\"] = images\n",
    "\n",
    "        final_data.append(item)\n",
    "\n",
    "    output_path = f\"medxpertqa/input/medxpertqa_{split.lower()}_input.jsonl\"\n",
    "    os.makedirs(os.path.dirname(output_path), exist_ok=True)\n",
    "    with open(output_path, 'w') as f:\n",
    "        for item in final_data:\n",
    "            f.write(json.dumps(item, ensure_ascii=False) + \"\\n\")"
   ]
  },
  {
   "cell_type": "code",
   "execution_count": null,
   "metadata": {},
   "outputs": [],
   "source": [
    "# show the first example\n",
    "from datasets import load_dataset\n",
    "\n",
    "ds = load_dataset(\"TsinghuaC3I/MedXpertQA\", \"MM\")\n",
    "\n",
    "test = ds[\"test\"]\n",
    "\n",
    "print(json.dumps(test[0], indent=2))"
   ]
  }
 ],
 "metadata": {
  "kernelspec": {
   "display_name": "base",
   "language": "python",
   "name": "python3"
  },
  "language_info": {
   "codemirror_mode": {
    "name": "ipython",
    "version": 3
   },
   "file_extension": ".py",
   "mimetype": "text/x-python",
   "name": "python",
   "nbconvert_exporter": "python",
   "pygments_lexer": "ipython3",
   "version": "3.11.6"
  }
 },
 "nbformat": 4,
 "nbformat_minor": 2
}
