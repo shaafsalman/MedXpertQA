{
 "cells": [
  {
   "cell_type": "markdown",
   "metadata": {},
   "source": [
    "#### MedMCQA"
   ]
  },
  {
   "cell_type": "code",
   "execution_count": 1,
   "metadata": {},
   "outputs": [
    {
     "name": "stderr",
     "output_type": "stream",
     "text": [
      "/Users/zyx/miniconda3/lib/python3.11/site-packages/tqdm/auto.py:21: TqdmWarning: IProgress not found. Please update jupyter and ipywidgets. See https://ipywidgets.readthedocs.io/en/stable/user_install.html\n",
      "  from .autonotebook import tqdm as notebook_tqdm\n"
     ]
    },
    {
     "name": "stdout",
     "output_type": "stream",
     "text": [
      "DatasetDict({\n",
      "    train: Dataset({\n",
      "        features: ['id', 'question', 'opa', 'opb', 'opc', 'opd', 'cop', 'choice_type', 'exp', 'subject_name', 'topic_name'],\n",
      "        num_rows: 182822\n",
      "    })\n",
      "    test: Dataset({\n",
      "        features: ['id', 'question', 'opa', 'opb', 'opc', 'opd', 'cop', 'choice_type', 'exp', 'subject_name', 'topic_name'],\n",
      "        num_rows: 6150\n",
      "    })\n",
      "    validation: Dataset({\n",
      "        features: ['id', 'question', 'opa', 'opb', 'opc', 'opd', 'cop', 'choice_type', 'exp', 'subject_name', 'topic_name'],\n",
      "        num_rows: 4183\n",
      "    })\n",
      "})\n"
     ]
    }
   ],
   "source": [
    "import os\n",
    "import json\n",
    "\n",
    "from datasets import load_dataset\n",
    "\n",
    "ds = load_dataset(\"openlifescienceai/medmcqa\")\n",
    "\n",
    "print(ds)"
   ]
  },
  {
   "cell_type": "code",
   "execution_count": 2,
   "metadata": {},
   "outputs": [],
   "source": [
    "data = ds['validation']\n",
    "\n",
    "final_data = []\n",
    "for index, item in enumerate(data):\n",
    "    id = item['id']\n",
    "    question = item['question'] + \"\\nAnswer Choices: (A) \" + item['opa'] + \" (B) \" + item['opb'] + \" (C) \" + item['opc'] + \" (D) \" + item['opd']\n",
    "    label = item['cop']\n",
    "    if label == 0:\n",
    "        label = [\"A\"]\n",
    "    elif label == 1:\n",
    "        label = [\"B\"]\n",
    "    elif label == 2:\n",
    "        label = [\"C\"]\n",
    "    elif label == 3:\n",
    "        label = [\"D\"]\n",
    "    else:\n",
    "        raise ValueError(\"Invalid label\")\n",
    "    label_rationale = item['exp']\n",
    "    subject_name = item['subject_name']\n",
    "    topic_name = item['topic_name']\n",
    "    final_data.append({\"id\": id, \"question\": question, \"label\": label, \"label_rationale\": label_rationale, \"subject_name\": subject_name, \"topic_name\": topic_name})\n",
    "\n",
    "output_path = \"medmcqa/input/medmcqa_input.jsonl\"\n",
    "os.makedirs(os.path.dirname(output_path), exist_ok=True)\n",
    "with open(output_path, 'w') as f:\n",
    "    for item in final_data:\n",
    "        f.write(json.dumps(item, ensure_ascii=False) + \"\\n\")"
   ]
  },
  {
   "cell_type": "markdown",
   "metadata": {},
   "source": [
    "#### MedQA"
   ]
  },
  {
   "cell_type": "code",
   "execution_count": 3,
   "metadata": {},
   "outputs": [
    {
     "name": "stdout",
     "output_type": "stream",
     "text": [
      "DatasetDict({\n",
      "    train: Dataset({\n",
      "        features: ['id', 'sent1', 'sent2', 'ending0', 'ending1', 'ending2', 'ending3', 'label'],\n",
      "        num_rows: 10178\n",
      "    })\n",
      "    validation: Dataset({\n",
      "        features: ['id', 'sent1', 'sent2', 'ending0', 'ending1', 'ending2', 'ending3', 'label'],\n",
      "        num_rows: 1272\n",
      "    })\n",
      "    test: Dataset({\n",
      "        features: ['id', 'sent1', 'sent2', 'ending0', 'ending1', 'ending2', 'ending3', 'label'],\n",
      "        num_rows: 1273\n",
      "    })\n",
      "})\n"
     ]
    }
   ],
   "source": [
    "ds = load_dataset(\"GBaker/MedQA-USMLE-4-options-hf\")\n",
    "\n",
    "print(ds)"
   ]
  },
  {
   "cell_type": "code",
   "execution_count": 4,
   "metadata": {},
   "outputs": [],
   "source": [
    "data = ds['test']\n",
    "\n",
    "final_data = []\n",
    "for index, item in enumerate(data):\n",
    "    id = item['id']\n",
    "    question = item['sent1'] + \"\\nAnswer Choices: (A) \" + item['ending0'] + \" (B) \" + item['ending1'] + \" (C) \" + item['ending2'] + \" (D) \" + item['ending3']\n",
    "    label = item['label']\n",
    "    if label == 0:\n",
    "        label = [\"A\"]\n",
    "    elif label == 1:\n",
    "        label = [\"B\"]\n",
    "    elif label == 2:\n",
    "        label = [\"C\"]\n",
    "    elif label == 3:\n",
    "        label = [\"D\"]\n",
    "    else:\n",
    "        raise ValueError(\"Invalid label\")\n",
    "    final_data.append({\"id\": id, \"question\": question, \"label\": label})\n",
    "\n",
    "output_path = \"medqa/input/medqa_input.jsonl\"\n",
    "os.makedirs(os.path.dirname(output_path), exist_ok=True)\n",
    "with open(output_path, 'w') as f:\n",
    "    for item in final_data:\n",
    "        f.write(json.dumps(item, ensure_ascii=False) + \"\\n\")"
   ]
  },
  {
   "cell_type": "markdown",
   "metadata": {},
   "source": [
    "#### MMLU Medical"
   ]
  },
  {
   "cell_type": "code",
   "execution_count": 5,
   "metadata": {},
   "outputs": [],
   "source": [
    "subject_list = [\"anatomy\", \"clinical_knowledge\", \"college_biology\", \"college_medicine\", \"medical_genetics\", \"professional_medicine\"]\n",
    "data = []\n",
    "for subject in subject_list:\n",
    "    data.append(load_dataset(\"cais/mmlu\", subject))"
   ]
  },
  {
   "cell_type": "code",
   "execution_count": 6,
   "metadata": {},
   "outputs": [],
   "source": [
    "final_data = []\n",
    "for ds in data:\n",
    "    samples = ds['test']\n",
    "    for index, item in enumerate(samples):\n",
    "        assert len(item['choices']) == 4\n",
    "        question = item['question'] + \"\\nAnswer Choices: (A) \" + item['choices'][0] + \" (B) \" + item['choices'][1] + \" (C) \" + item['choices'][2] + \" (D) \" + item['choices'][3]\n",
    "        label = item['answer']\n",
    "        if label == 0:\n",
    "            label = [\"A\"]\n",
    "        elif label == 1:\n",
    "            label = [\"B\"]\n",
    "        elif label == 2:\n",
    "            label = [\"C\"]\n",
    "        elif label == 3:\n",
    "            label = [\"D\"]\n",
    "        else:\n",
    "            raise ValueError(\"Invalid label\")\n",
    "        subject = item['subject']\n",
    "        final_data.append({\"question\": question, \"label\": label, \"subject\": subject})\n",
    "\n",
    "output_path = \"mmlu_medical/input/mmlu_medical_input.jsonl\"\n",
    "os.makedirs(os.path.dirname(output_path), exist_ok=True)\n",
    "with open(output_path, 'w') as f:\n",
    "    for item in final_data:\n",
    "        f.write(json.dumps(item, ensure_ascii=False) + \"\\n\")"
   ]
  }
 ],
 "metadata": {
  "kernelspec": {
   "display_name": "base",
   "language": "python",
   "name": "python3"
  },
  "language_info": {
   "codemirror_mode": {
    "name": "ipython",
    "version": 3
   },
   "file_extension": ".py",
   "mimetype": "text/x-python",
   "name": "python",
   "nbconvert_exporter": "python",
   "pygments_lexer": "ipython3",
   "version": "3.11.6"
  }
 },
 "nbformat": 4,
 "nbformat_minor": 2
}
